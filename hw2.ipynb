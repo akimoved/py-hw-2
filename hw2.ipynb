{
 "cells": [
  {
   "cell_type": "markdown",
   "metadata": {},
   "source": [
    "# Homework 2"
   ]
  },
  {
   "cell_type": "markdown",
   "metadata": {},
   "source": [
    "## Excercise 1"
   ]
  },
  {
   "cell_type": "code",
   "execution_count": 14,
   "metadata": {},
   "outputs": [
    {
     "name": "stdout",
     "output_type": "stream",
     "text": [
      "Введите словоДва\n",
      "в\n"
     ]
    }
   ],
   "source": [
    "word = input('Введите слово')\n",
    "\n",
    "if len(word) % 2 == 0:\n",
    "    print(word[int(len(word) / 2 - 1)] + word[int(len(word) / 2)])\n",
    "else:\n",
    "    print(word[int(len(word) // 2)])"
   ]
  },
  {
   "cell_type": "markdown",
   "metadata": {},
   "source": [
    "## Excercise 2"
   ]
  },
  {
   "cell_type": "code",
   "execution_count": 22,
   "metadata": {},
   "outputs": [
    {
     "name": "stdout",
     "output_type": "stream",
     "text": [
      "Введите число0\n",
      "Результат: 0\n"
     ]
    }
   ],
   "source": [
    "summary = 0\n",
    "user_number = int(input('Введите число'))\n",
    "while user_number != 0:\n",
    "    summary += user_number\n",
    "    user_number = int(input('Введите число'))\n",
    "\n",
    "print('Результат:',summary)"
   ]
  },
  {
   "cell_type": "markdown",
   "metadata": {},
   "source": [
    "## Excercise 3"
   ]
  },
  {
   "cell_type": "code",
   "execution_count": 28,
   "metadata": {},
   "outputs": [
    {
     "name": "stdout",
     "output_type": "stream",
     "text": [
      "Cody и Anna\n",
      "Julius и Hana\n",
      "Justin и Karla\n",
      "Kelvin и Tara\n",
      "Toby и Valery\n"
     ]
    }
   ],
   "source": [
    "boys = ['Julius','Kelvin','Toby','Cody','Justin']\n",
    "girls = ['Anna','Valery','Karla','Hana','Tara']\n",
    "\n",
    "if len(boys) != len(girls):\n",
    "    print('Внимание, кто-то может остаться без пары!')\n",
    "else:\n",
    "    for pair in zip(sorted(boys),sorted(girls)):\n",
    "        print(pair[0],'и',pair[1])"
   ]
  },
  {
   "cell_type": "markdown",
   "metadata": {},
   "source": [
    "## Excercise 4"
   ]
  },
  {
   "cell_type": "code",
   "execution_count": 53,
   "metadata": {},
   "outputs": [
    {
     "name": "stdout",
     "output_type": "stream",
     "text": [
      "Thailand - 23.9 C\n",
      "Germany - 13.8 C\n",
      "Russia - 3.7 C\n",
      "Poland - 12.0 C\n"
     ]
    }
   ],
   "source": [
    "import math\n",
    "\n",
    "countries_temperature = [\n",
    "['Thailand', [75.2, 77, 78.8, 73.4, 68, 75.2, 77]],\n",
    "['Germany', [57.2, 55.4, 59, 59, 53.6]],\n",
    "['Russia', [35.6, 37.4, 39.2, 41, 42.8, 39.2, 35.6]],\n",
    "['Poland', [50, 50, 53.6, 57.2, 55.4, 55.4]]\n",
    "]\n",
    "\n",
    "for record in countries_temperature:\n",
    "    print(record[0],'-',round((((math.fsum(record[1]) / len(record[1])) - 32) * 5 / 9), 1),'C')"
   ]
  },
  {
   "cell_type": "markdown",
   "metadata": {},
   "source": [
    "## Excercise 5"
   ]
  },
  {
   "cell_type": "code",
   "execution_count": 118,
   "metadata": {},
   "outputs": [
    {
     "name": "stdout",
     "output_type": "stream",
     "text": [
      "Среднее количество просмотров на уникального пользователя: 53.5\n"
     ]
    }
   ],
   "source": [
    "stream = [\n",
    "'2018-01-01,user1,1',\n",
    "'2018-01-07,user1,100',\n",
    "'2018-03-29,user1,10',\n",
    "'2018-04-04,user1,4',\n",
    "'2018-01-05,user2,1',\n",
    "'2018-06-14,user3,1',\n",
    "'2018-07-02,user3,80',\n",
    "'2018-03-21,user4,1',\n",
    "'2018-03-22,user4,4',\n",
    "'2018-04-22,user4,4',\n",
    "'2018-05-03,user4,4',\n",
    "'2018-05-11,user4,4',\n",
    "]\n",
    "\n",
    "previous_id = -1 # устанавливаем на -1 для регистрации пользователя из первой строки как нового\n",
    "total_views = 0\n",
    "user_count = 0\n",
    "for record in stream:\n",
    "    user_id = int(record.split(',')[1].replace('user',''))\n",
    "    total_views += int(record.split(',')[2])\n",
    "    if user_id != previous_id:\n",
    "        user_count += 1\n",
    "    previous_id = user_id\n",
    "print('Среднее количество просмотров на уникального пользователя:', total_views / user_count)"
   ]
  },
  {
   "cell_type": "markdown",
   "metadata": {},
   "source": [
    "## Excercise 6"
   ]
  },
  {
   "cell_type": "code",
   "execution_count": 109,
   "metadata": {},
   "outputs": [
    {
     "name": "stdout",
     "output_type": "stream",
     "text": [
      "Введите числа1 1 1 1 2 2 2 2 3 3 3 4 4 45\n",
      "1 2 3 4 \n"
     ]
    }
   ],
   "source": [
    "user_numbers = input('Введите числа').split(' ')\n",
    "\n",
    "repeating_numbers = ''\n",
    "for number in user_numbers:\n",
    "    if user_numbers.count(number) > 1 and not number in repeating_numbers:\n",
    "        repeating_numbers += f'{number} '\n",
    "print(repeating_numbers)"
   ]
  }
 ],
 "metadata": {
  "kernelspec": {
   "display_name": "Python 3",
   "language": "python",
   "name": "python3"
  },
  "language_info": {
   "codemirror_mode": {
    "name": "ipython",
    "version": 3
   },
   "file_extension": ".py",
   "mimetype": "text/x-python",
   "name": "python",
   "nbconvert_exporter": "python",
   "pygments_lexer": "ipython3",
   "version": "3.8.5"
  }
 },
 "nbformat": 4,
 "nbformat_minor": 4
}
